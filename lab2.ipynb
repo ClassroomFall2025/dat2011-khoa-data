{
 "cells": [
  {
   "cell_type": "markdown",
   "id": "fdeff819",
   "metadata": {},
   "source": [
    "# Sinh Viên thực hiện Lab 2 ở Đây"
   ]
  },
  {
   "cell_type": "markdown",
   "id": "acc5d7dc",
   "metadata": {},
   "source": [
    "## Lab 2 - Bài 1"
   ]
  },
  {
   "cell_type": "code",
   "execution_count": 12,
   "id": "001e0507",
   "metadata": {},
   "outputs": [
    {
     "name": "stdout",
     "output_type": "stream",
     "text": [
      "Từ bạn tìm kiếm là:  \n",
      "CON NGƯỜI\n"
     ]
    }
   ],
   "source": [
    "# Code Lab 2 bài 1 ở đây\n",
    "Baitho = '''Kiếp con người mong manh như là gió\n",
    "Sống trên đời có được mấy lần vui\n",
    "Sao phải đau mà không thể mỉm cười\n",
    "Gắng buông nỗi ngậm ngùi nơi quá khứ\n",
    "\n",
    "Nếu có thể sao ta không làm thử\n",
    "Để tâm hồn khác hai chữ bình an\n",
    "Cho đôi chân bước thanh thản nhẹ nhàng\n",
    "Dù hướng đời có muôn ngàn đá sỏi'''\n",
    "\n",
    "#timkiem = \"con người\" in Baitho\n",
    "#print(\"Con người trong bài thơ không? \", timkiem)\n",
    "#index1 = Baitho.find(\"con người\") # tìm vị trí \"con người\"\n",
    "#index2 = index1 + len(\"con người\")\n",
    "#tu_timkiem = Baitho[index1: index2]\n",
    "\n",
    "tu_tim_kiem = input(\"Nhập từ bạn muốn tìm kiếm trong bài thơ: \")\n",
    "index1 = Baitho.find(tu_tim_kiem)\n",
    "index2 = index1 + len(tu_tim_kiem)\n",
    "tu_tim_kiem = Baitho[index1: index2]\n",
    "print(\"Từ bạn tìm kiếm là: \", tu_tim_kiem)\n",
    "\n",
    "\n",
    "text = \"con người\"\n",
    "print(text.upper()) # in hoa\n"
   ]
  },
  {
   "cell_type": "markdown",
   "id": "c0835310",
   "metadata": {},
   "source": [
    "## Lab 2 - Bài 2"
   ]
  },
  {
   "cell_type": "code",
   "execution_count": 8,
   "id": "fa9cb39f",
   "metadata": {},
   "outputs": [
    {
     "name": "stdout",
     "output_type": "stream",
     "text": [
      "...Kiếp con người mong manh như là gió\n",
      "Sống trên đời có được mấy lần vui\n",
      "Sao phải đau mà không thể mỉm cười\n",
      "Gắng buông nỗi ngậm ngùi nơi quá khứ\n",
      "\n",
      "Nếu có thể sao ta không làm thử\n",
      "Để tâm hồn khác hai chữ bình an\n",
      "Cho đôi chân bước thanh thản nhẹ nhàng\n",
      "Dù hướng đời có muôn ngàn đá sỏi...\n"
     ]
    }
   ],
   "source": [
    "# Code lab 2  bài 2 ở đây\n",
    "Baitho = '''Kiếp con người mong manh như là gió\n",
    "Sống trên đời có được mấy lần vui\n",
    "Sao phải đau mà không thể mỉm cười\n",
    "Gắng buông nỗi ngậm ngùi nơi quá khứ\n",
    "\n",
    "Nếu có thể sao ta không làm thử\n",
    "Để tâm hồn khác hai chữ bình an\n",
    "Cho đôi chân bước thanh thản nhẹ nhàng\n",
    "Dù hướng đời có muôn ngàn đá sỏi'''\n",
    "\n",
    "# Thay thế từ bình an thành hạnh phúc\n",
    "#tu_thay_the = Baitho.replace(\"bình an\", \"hạnh phúc\")\n",
    "#print(tu_thay_the)\n",
    "\n",
    "them_dau = \"...\" + Baitho + \"...\"\n",
    "print(them_dau)"
   ]
  },
  {
   "cell_type": "markdown",
   "id": "0f2483fe",
   "metadata": {},
   "source": [
    "## Lab 2 - Bài 3"
   ]
  },
  {
   "cell_type": "code",
   "execution_count": 11,
   "id": "7034990b",
   "metadata": {},
   "outputs": [
    {
     "name": "stdout",
     "output_type": "stream",
     "text": [
      "Nghiệm của phương trình là:  -1.1666666666666667\n"
     ]
    }
   ],
   "source": [
    "# Code lab 2  bài 3 ở đây\n",
    "a = float(input(\"Nhập chuỗi a: \"))\n",
    "b = float(input(\"Nhập chuỗi b: \"))\n",
    "if a == 0:\n",
    "    if b == 0:\n",
    "        print(\"Thông báo vô số nghiệm\")\n",
    "    else:\n",
    "        print(\"Thông báo vô nghiệm\")\n",
    "else:\n",
    "    x = - b / a\n",
    "    print(\"Nghiệm của phương trình là: \", x)"
   ]
  },
  {
   "cell_type": "markdown",
   "id": "d36ea3d3",
   "metadata": {},
   "source": [
    "## Lab 2 - Bài 4"
   ]
  },
  {
   "cell_type": "code",
   "execution_count": 13,
   "id": "4c707ec1",
   "metadata": {},
   "outputs": [
    {
     "name": "stdout",
     "output_type": "stream",
     "text": [
      "Phương trình có 2 nghiệm phân biệt:\n",
      "Nghiệm thứ nhất x1 = -0.31010205144336445\n",
      "Nghiệm thứ hai x2 = -1.2898979485566355\n"
     ]
    }
   ],
   "source": [
    "import math\n",
    "a = int(input(\"Nhập số a: \"))\n",
    "b = int(input(\"Nhập số b: \")) \n",
    "c = int(input(\"Nhập số c: \"))\n",
    "delta = b**2 - 4*a*c   \n",
    "if delta > 0:\n",
    "    x1 = (-b + math.sqrt(delta)) / (2*a)\n",
    "    x2 = (-b - math.sqrt(delta)) / (2*a)\n",
    "    print(\"Phương trình có 2 nghiệm phân biệt:\")\n",
    "    print(\"Nghiệm thứ nhất x1 =\", x1)\n",
    "    print(\"Nghiệm thứ hai x2 =\", x2)\n",
    "elif delta == 0:\n",
    "    x = -b / (2*a)\n",
    "    print(\"Phương trình có nghiệm kép:\")\n",
    "    print(\"Nghiệm x =\", x)\n",
    "else:\n",
    "    print(\"Phương trình vô nghiệm\")\n"
   ]
  },
  {
   "cell_type": "markdown",
   "id": "e2b41d4a",
   "metadata": {},
   "source": [
    "## Lab 2 - Bài 5: bài tập làm thêm"
   ]
  },
  {
   "cell_type": "code",
   "execution_count": null,
   "id": "0e0172f7",
   "metadata": {},
   "outputs": [],
   "source": [
    "# code lab 2  bài làm thêm ở đây "
   ]
  }
 ],
 "metadata": {
  "kernelspec": {
   "display_name": "Python 3",
   "language": "python",
   "name": "python3"
  },
  "language_info": {
   "codemirror_mode": {
    "name": "ipython",
    "version": 3
   },
   "file_extension": ".py",
   "mimetype": "text/x-python",
   "name": "python",
   "nbconvert_exporter": "python",
   "pygments_lexer": "ipython3",
   "version": "3.13.5"
  }
 },
 "nbformat": 4,
 "nbformat_minor": 5
}
