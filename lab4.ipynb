{
 "cells": [
  {
   "cell_type": "markdown",
   "id": "fdeff819",
   "metadata": {},
   "source": [
    "# Sinh Viên thực hiện Lab 4 ở Đây"
   ]
  },
  {
   "cell_type": "markdown",
   "id": "acc5d7dc",
   "metadata": {},
   "source": [
    "## Lab 1 - Bài 1"
   ]
  },
  {
   "cell_type": "code",
   "execution_count": null,
   "id": "3bc0900b",
   "metadata": {},
   "outputs": [],
   "source": []
  },
  {
   "cell_type": "code",
   "execution_count": null,
   "id": "001e0507",
   "metadata": {},
   "outputs": [],
   "source": [
    "# Code lab 4 bài 1 ở đây\n",
    "def tinh_tien_nuoc(so_nuoc):\n",
    "    gia_ban_nuoc = (7500, 8800, 12000, 24000)\n",
    "    if so_nuoc <= 10 and so_nuoc >= 0:\n",
    "        tien_nuoc_trong_thang = so_nuoc * gia_ban_nuoc[0]\n",
    "    elif so_nuoc <= 20:\n",
    "        tien_nuoc_trong_thang = (10 * gia_ban_nuoc[0]) + ((so_nuoc - 10) * gia_ban_nuoc[1])\n",
    "    elif so_nuoc <= 30:\n",
    "        tien_nuoc_trong_thang = (10 * gia_ban_nuoc [0]) + (10 * gia_ban_nuoc[1]) + ((so_nuoc - 20) * gia_ban_nuoc[2])\n",
    "    elif so_nuoc > 30:\n",
    "        tien_nuoc_trong_thang = (10 * gia_ban_nuoc [0]) + (10 * gia_ban_nuoc[1]) + (10 * gia_ban_nuoc[2]) + ((so_nuoc - 30) * gia_ban_nuoc[3])\n",
    "    return tien_nuoc_trong_thang\n",
    "\n",
    "\n"
   ]
  },
  {
   "cell_type": "markdown",
   "id": "c0835310",
   "metadata": {},
   "source": [
    "## Lab 4 - Bài 2"
   ]
  },
  {
   "cell_type": "code",
   "execution_count": 10,
   "id": "fa9cb39f",
   "metadata": {},
   "outputs": [],
   "source": [
    "# Code lab 4  bài 2 ở đây\n",
    "def tinh_nguyen_lieu (sl_banh_dau_xanh, sl_banh_thap_cam, sl_banh_deo):\n",
    "    banh_dau_xanh = {\"Duong\":0.04, \"Dau\":0.07}\n",
    "    banh_thap_cam = {\"Duong\":0.06, \"Dau\":0}\n",
    "    banh_deo = {\"Duong\":0.05, \"Dau\":0.02}\n",
    "    nguyen_lieu_lam_banh = {}\n",
    "    Duong_hop_banh = sl_banh_dau_xanh * banh_dau_xanh[\"Duong\"] + sl_banh_thap_cam * banh_thap_cam[\"Duong\"] + sl_banh_deo * banh_deo[\"Duong\"]\n",
    "    Dau_hop_banh = sl_banh_dau_xanh * banh_dau_xanh[\"Dau\"] + sl_banh_thap_cam * banh_thap_cam[\"Dau\"] + sl_banh_deo * banh_deo[\"Dau\"]\n",
    "    nguyen_lieu_lam_banh[\"Duong\"] = Duong_hop_banh\n",
    "    nguyen_lieu_lam_banh[\"Dau\"] = Dau_hop_banh\n",
    "    return nguyen_lieu_lam_banh\n",
    "\n"
   ]
  },
  {
   "cell_type": "markdown",
   "id": "0f2483fe",
   "metadata": {},
   "source": [
    "## Lab 4 - Bài 3"
   ]
  },
  {
   "cell_type": "code",
   "execution_count": null,
   "id": "7034990b",
   "metadata": {},
   "outputs": [],
   "source": [
    "# Code lab 4  bài 3 ở đây\n",
    "số_nguyên = (input(\"Nhập số nguyên  n: \"))\n",
    "n = int(số_nguyên)\n",
    "số_nguyên = list(map(int, số_nguyên.split()))\n",
    "số_chẵn = list(filter(lambda x: x % 2 == 0, số_nguyên))\n",
    "print(\"Các số chẵn trong dãy là:\", số_chẵn)"
   ]
  },
  {
   "cell_type": "markdown",
   "id": "d36ea3d3",
   "metadata": {},
   "source": [
    "## Lab 4 - Bài 4"
   ]
  },
  {
   "cell_type": "code",
   "execution_count": null,
   "id": "4c707ec1",
   "metadata": {},
   "outputs": [
    {
     "ename": "ModuleNotFoundError",
     "evalue": "No module named 'lab4'",
     "output_type": "error",
     "traceback": [
      "\u001b[31m---------------------------------------------------------------------------\u001b[39m",
      "\u001b[31mModuleNotFoundError\u001b[39m                       Traceback (most recent call last)",
      "\u001b[36mCell\u001b[39m\u001b[36m \u001b[39m\u001b[32mIn[2]\u001b[39m\u001b[32m, line 2\u001b[39m\n\u001b[32m      1\u001b[39m \u001b[38;5;66;03m# code lab 4 bài 4 ở đây\u001b[39;00m\n\u001b[32m----> \u001b[39m\u001b[32m2\u001b[39m \u001b[38;5;28;01mimport\u001b[39;00m\u001b[38;5;250m \u001b[39m\u001b[34;01mlab4\u001b[39;00m;\n\u001b[32m      3\u001b[39m menu = {}\n",
      "\u001b[31mModuleNotFoundError\u001b[39m: No module named 'lab4'"
     ]
    }
   ],
   "source": [
    "# code lab 4 bài 4 ở đây\n",
    "import lab4.ipynb:\n",
    "menu = {\n",
    "    \"1\" : \"Tính tiền nước sinh hoạt\",\n",
    "    \"2\" : \"Tính nguyên liệu làm bánh\",\n",
    "    \"3\" : \"Thoát\"\n",
    "}\n",
    "while True:\n",
    "    print(\"-----Menu-----\")\n",
    "    for k,v in menu.items():\n",
    "        print(f\"{k}: {v}\")\n",
    "    print(\"--------------\")\n",
    "    lua_chon = input(\"Mời bạn chọn chức năng: \")\n",
    "    if lua_chon == \"3\"\n",
    "        print(\"Kết thúc chương trình\")\n",
    "        break\n",
    "    elif lua_chon == \"1\":\n",
    "        \n"
   ]
  },
  {
   "cell_type": "markdown",
   "id": "e2b41d4a",
   "metadata": {},
   "source": [
    "## Lab 4 - Bài 5: bài tập làm thêm"
   ]
  },
  {
   "cell_type": "code",
   "execution_count": null,
   "id": "0e0172f7",
   "metadata": {},
   "outputs": [],
   "source": [
    "# code lab 4  bài làm thêm ở đây "
   ]
  }
 ],
 "metadata": {
  "kernelspec": {
   "display_name": "Python 3",
   "language": "python",
   "name": "python3"
  },
  "language_info": {
   "codemirror_mode": {
    "name": "ipython",
    "version": 3
   },
   "file_extension": ".py",
   "mimetype": "text/x-python",
   "name": "python",
   "nbconvert_exporter": "python",
   "pygments_lexer": "ipython3",
   "version": "3.13.5"
  }
 },
 "nbformat": 4,
 "nbformat_minor": 5
}
