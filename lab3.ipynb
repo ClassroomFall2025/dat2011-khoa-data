{
 "cells": [
  {
   "cell_type": "markdown",
   "id": "fdeff819",
   "metadata": {},
   "source": [
    "# Sinh Viên thực hiện Lab 3 ở Đây"
   ]
  },
  {
   "cell_type": "markdown",
   "id": "acc5d7dc",
   "metadata": {},
   "source": [
    "## Lab 3 - Bài 1"
   ]
  },
  {
   "cell_type": "code",
   "execution_count": 1,
   "id": "001e0507",
   "metadata": {},
   "outputs": [
    {
     "name": "stdout",
     "output_type": "stream",
     "text": [
      "Vui lòng nhập số hoặc 'q' để thoát\n",
      "Vui lòng nhập số hoặc 'q' để thoát\n",
      "Vui lòng nhập số hoặc 'q' để thoát\n",
      "thoát chương trình\n",
      "[6, 5, 4, 3, 2, 4, 4, 4, 4, 44, 4, 4, 4, 4, 4, 4]\n",
      "Dãy số sắp xếp: [2, 3, 4, 4, 4, 4, 4, 4, 4, 4, 4, 4, 4, 5, 6, 44]\n",
      "Giá trị nhỏ nhất: 2\n",
      "Giá trị lớn nhất: 44\n",
      "[44, 6, 5, 4, 4, 4, 4, 4, 4, 4, 4, 4, 4, 4, 3, 2]\n",
      "Giá trị nhỏ nhất: 2\n",
      "Giá trị lớn nhất: 44\n",
      "44\n",
      "6\n",
      "5\n",
      "4\n",
      "4\n",
      "4\n",
      "4\n",
      "4\n",
      "4\n",
      "4\n",
      "4\n",
      "4\n",
      "4\n",
      "4\n",
      "3\n",
      "2\n",
      "Tổng các số chia hết cho 3 là: 9\n",
      "có 2 số chia hết cho 3\n",
      "Trung bình cộng các số chia hết cho 3 là: 4.5\n",
      "Các số chia hết cho 3 là: [6, 3]\n"
     ]
    }
   ],
   "source": [
    "day_so=[]\n",
    "tong=0\n",
    "dem=0\n",
    "day_so_chia_het_3=[]\n",
    "while True:\n",
    "    so = input(\"Nhập số: \")\n",
    "    if so == 'q':\n",
    "        print(\"thoát chương trình\")\n",
    "        break\n",
    "    else:\n",
    "        try:\n",
    "            phan_tu = int(so)\n",
    "            day_so.append(phan_tu)\n",
    "        except ValueError:\n",
    "            print(\"Vui lòng nhập số hoặc 'q' để thoát\")\n",
    "print(day_so)\n",
    "# Sắp xếp dãy số tăng dần\n",
    "day_so.sort()\n",
    "print(\"Dãy số sắp xếp:\", day_so)\n",
    "#giá trị nhỏ nhất\n",
    "print(\"Giá trị nhỏ nhất:\", day_so[0])\n",
    "print(\"Giá trị lớn nhất:\", day_so[-1])\n",
    "#sắp xếp dãy số giảm dần\n",
    "day_so.sort(reverse=True)\n",
    "print(day_so)\n",
    "print(\"Giá trị nhỏ nhất:\", day_so[-1])\n",
    "print(\"Giá trị lớn nhất:\", day_so[0])   \n",
    "#duyệt danh sách\n",
    "for n in day_so:\n",
    "    print(n)\n",
    "# kiểm tra từng phần tử\n",
    "for n in day_so:\n",
    "    if n % 3 == 0:\n",
    "        tong= tong + n\n",
    "        dem= dem + 1\n",
    "        day_so_chia_het_3.append(n)\n",
    "print(\"Tổng các số chia hết cho 3 là:\", tong)\n",
    "print(f\"có {dem} số chia hết cho 3\")\n",
    "if dem != 0:\n",
    "    print(\"Trung bình cộng các số chia hết cho 3 là:\", tong / dem)\n",
    "else:\n",
    "    print(\"Không có số nào chia hết cho 3\")\n",
    "print(\"Các số chia hết cho 3 là:\", day_so_chia_het_3)"
   ]
  },
  {
   "cell_type": "markdown",
   "id": "c0835310",
   "metadata": {},
   "source": [
    "## Lab 3 - Bài 2"
   ]
  },
  {
   "cell_type": "code",
   "execution_count": null,
   "id": "fa9cb39f",
   "metadata": {},
   "outputs": [
    {
     "name": "stdout",
     "output_type": "stream",
     "text": [
      "Danh sách sinh viên:  []\n"
     ]
    }
   ],
   "source": [
    "# Code lab 3  bài 2 ở đây\n",
    "#sinh_vien = {\n",
    "#    \"Họ tên\":\"\",\n",
    "#    \"Điểm\":\"\"\n",
    "#}\n",
    "# Nhập thông tin sinh viên\n",
    "#ho_ten = input(\"Nhập họ tên sinh viên: \")\n",
    "#diem = float(input(\"Nhập điểm sinh viên: \"))\n",
    "#sinh_vien[\"Họ tên\"] = ho_ten\n",
    "#sinh_vien[\"Điểm\"] = diem\n",
    "#if diem >= 9 and diem <= 10:\n",
    "#    hoc_luc = \"Xuất sắc\"\n",
    "#elif diem >= 8:\n",
    "#    hoc_luc = \"Giỏi\"\n",
    "#elif diem >= 7:\n",
    "#    hoc_luc = \"Khá\"\n",
    "#elif diem >= 5:\n",
    "#    hoc_luc = \"Trung bình\"\n",
    "#else: \n",
    "#    hoc_luc = \"Chua đạt\"\n",
    "#Sinh_vien[\"Học lực\"] = hoc_luc\n",
    "#print(sinh_vien)\n",
    "\n",
    "ds_sinhvien = []\n",
    "sinh_vien = {}\n",
    "while True:\n",
    "    ho_ten = input(\"Nhập họ tên sinh viên: \")\n",
    "    if ho_ten.lower() == \"q\":\n",
    "        break\n",
    "    else:\n",
    "        diem = float(input(\"Nhập điểm sinh viên: \"))\n",
    "        if diem >= 9 and diem <= 10:\n",
    "            hoc_luc = \"Xuất sắc\"\n",
    "        elif diem >= 8:\n",
    "            hoc_luc = \"Giỏi\"\n",
    "        elif diem >= 7:\n",
    "            hoc_luc = \"Khá\"\n",
    "        elif diem >= 5:\n",
    "            hoc_luc = \"Trung bình\"\n",
    "        else: \n",
    "            hoc_luc = \"Chua đạt\"\n",
    "        sinh_vien[\"Ho ten\"] = ho_ten\n",
    "        sinh_vien[\"Diem\"] = diem\n",
    "        sinh_vien[\"Hoc luc\"] = hoc_luc\n",
    "        ds_sinhvien.append(sinh_vien)\n",
    "print(\"Danh sách sinh viên: \", ds_sinhvien)"
   ]
  },
  {
   "cell_type": "markdown",
   "id": "0f2483fe",
   "metadata": {},
   "source": [
    "## Lab 3 - Bài 3"
   ]
  },
  {
   "cell_type": "code",
   "execution_count": 6,
   "id": "7034990b",
   "metadata": {},
   "outputs": [
    {
     "name": "stdout",
     "output_type": "stream",
     "text": [
      "4 không phải số nguyên tố\n"
     ]
    }
   ],
   "source": [
    "# Code lab 3  bài 3 ở đây\n",
    "# Nhập số từ bàn phím\n",
    "n = int(input(\"Nhập số n: \"))\n",
    "ok = True   # giả sử ban đầu là số nguyên tố\n",
    "i = 2\n",
    "while i < (n - 1):\n",
    "    if n % i == 0:\n",
    "        ok = False\n",
    "        break\n",
    "    i += 1\n",
    "if ok and n > 1:\n",
    "    print(n, \"là số nguyên tố\")\n",
    "else:\n",
    "    print(n, \"không phải số nguyên tố\")"
   ]
  },
  {
   "cell_type": "markdown",
   "id": "d36ea3d3",
   "metadata": {},
   "source": [
    "## Lab 3 - Bài 4"
   ]
  },
  {
   "cell_type": "code",
   "execution_count": 18,
   "id": "4c707ec1",
   "metadata": {},
   "outputs": [
    {
     "name": "stdout",
     "output_type": "stream",
     "text": [
      "Bangcuchuong 4\n",
      "Bangcuchuong 1\n",
      "1 x 1 = 1\n",
      "1 x 2 = 2\n",
      "1 x 3 = 3\n",
      "1 x 4 = 4\n",
      "1 x 5 = 5\n",
      "1 x 6 = 6\n",
      "1 x 7 = 7\n",
      "1 x 8 = 8\n",
      "1 x 9 = 9\n",
      "\n",
      "Bangcuchuong 2\n",
      "2 x 1 = 2\n",
      "2 x 2 = 4\n",
      "2 x 3 = 6\n",
      "2 x 4 = 8\n",
      "2 x 5 = 10\n",
      "2 x 6 = 12\n",
      "2 x 7 = 14\n",
      "2 x 8 = 16\n",
      "2 x 9 = 18\n",
      "\n",
      "Bangcuchuong 3\n",
      "3 x 1 = 3\n",
      "3 x 2 = 6\n",
      "3 x 3 = 9\n",
      "3 x 4 = 12\n",
      "3 x 5 = 15\n",
      "3 x 6 = 18\n",
      "3 x 7 = 21\n",
      "3 x 8 = 24\n",
      "3 x 9 = 27\n",
      "\n",
      "Bangcuchuong 4\n",
      "4 x 1 = 4\n",
      "4 x 2 = 8\n",
      "4 x 3 = 12\n",
      "4 x 4 = 16\n",
      "4 x 5 = 20\n",
      "4 x 6 = 24\n",
      "4 x 7 = 28\n",
      "4 x 8 = 32\n",
      "4 x 9 = 36\n",
      "\n"
     ]
    }
   ],
   "source": [
    "x = int(input(\"Nhập bảng cửu chương bạn muốn in: \"))\n",
    "print(\"Bangcuchuong\", x)\n",
    "for i in range(1, n+1):   \n",
    "    print(\"Bangcuchuong\", i) \n",
    "    for j in range(1,10):     # i là số của bảng (1 → 9)\n",
    "        print(\"%d x %d = %d\" % (i, j, i * j))\n",
    "    print()"
   ]
  },
  {
   "cell_type": "markdown",
   "id": "e2b41d4a",
   "metadata": {},
   "source": [
    "## Lab 3 - Bài 5: bài tập làm thêm"
   ]
  },
  {
   "cell_type": "code",
   "execution_count": 6,
   "id": "0e0172f7",
   "metadata": {},
   "outputs": [
    {
     "name": "stdout",
     "output_type": "stream",
     "text": [
      "Thời gian\n"
     ]
    }
   ],
   "source": [
    "# code lab 3  bài làm thêm ở đây \n",
    "# --- MASY TINHS BOR TUIS ---\n",
    "lua_chon = int(input(\"Nhap lua chon cua ban (1/2/3/4/5/6/7/8/9/10): \"))\n",
    "match lua_chon:\n",
    "    case 1:\n",
    "        print(\"Phép tính cơ bản\")\n",
    "    case 2:\n",
    "        print(\"Lũy thừa\")\n",
    "    case 3:\n",
    "        print(\"Căn bậc hai\")\n",
    "    case 4:\n",
    "        print(\"Hàm lượng giác\")\n",
    "    case 5:\n",
    "        print(\"Logarit\")\n",
    "    case 6:\n",
    "        print(\"Giải phương trình bậc nhất\")\n",
    "    case 7:\n",
    "        print(\"Giải phương trình bậc hai\")\n",
    "    case 8:\n",
    "        print(\"Lịch sử\")\n",
    "    case 9:\n",
    "        print(\"Thời gian\")\n",
    "        if lua_chon ==0:\n",
    "            print(\"Thoát\")\n",
    "\n"
   ]
  },
  {
   "cell_type": "code",
   "execution_count": null,
   "id": "068911a7",
   "metadata": {},
   "outputs": [],
   "source": []
  }
 ],
 "metadata": {
  "kernelspec": {
   "display_name": "Python 3",
   "language": "python",
   "name": "python3"
  },
  "language_info": {
   "codemirror_mode": {
    "name": "ipython",
    "version": 3
   },
   "file_extension": ".py",
   "mimetype": "text/x-python",
   "name": "python",
   "nbconvert_exporter": "python",
   "pygments_lexer": "ipython3",
   "version": "3.13.5"
  }
 },
 "nbformat": 4,
 "nbformat_minor": 5
}
