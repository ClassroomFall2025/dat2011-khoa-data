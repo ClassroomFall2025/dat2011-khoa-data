{
 "cells": [
  {
   "cell_type": "markdown",
   "id": "fdeff819",
   "metadata": {},
   "source": [
    "# Sinh Viên thực hiện Lab 6 ở Đây"
   ]
  },
  {
   "cell_type": "markdown",
   "id": "acc5d7dc",
   "metadata": {},
   "source": [
    "## Lab 6 - Bài 1"
   ]
  },
  {
   "cell_type": "code",
   "execution_count": 2,
   "id": "001e0507",
   "metadata": {},
   "outputs": [
    {
     "name": "stdout",
     "output_type": "stream",
     "text": [
      "Chiều dài: 4\n",
      "Chiều rộng: 3\n",
      "Chu vi: 14\n",
      "Diện tích: 12\n",
      "Hình vuông - Cạnh: 5\n",
      "Chu vi: 20\n",
      "Diện tích: 25\n"
     ]
    }
   ],
   "source": [
    "# code lab 6 bai 1\n",
    "from lab6 import ChuNhat, HinhVuong\n",
    "cn1 = ChuNhat (4,3)\n",
    "v = HinhVuong(5)\n",
    "cn1.xuat()\n",
    "v.xuat()"
   ]
  },
  {
   "cell_type": "markdown",
   "id": "c0835310",
   "metadata": {},
   "source": [
    "## Lab 6 - Bài 2"
   ]
  },
  {
   "cell_type": "code",
   "execution_count": null,
   "id": "fa9cb39f",
   "metadata": {},
   "outputs": [
    {
     "name": "stdout",
     "output_type": "stream",
     "text": [
      "Sinh viên: khoa - Mã SV: 444 - Điểm: 1.0 - Học lực: Yếu\n"
     ]
    }
   ],
   "source": [
    "# Code lab 6  bài 2 ở đây\n",
    "from svpoly import SinhvienPoly\n",
    "sv1 = SinhvienPoly(\"\",\"\",\"\")\n",
    "sv1.nhap_thong_tin_sv()\n",
    "sv1.xuat()"
   ]
  },
  {
   "cell_type": "markdown",
   "id": "0f2483fe",
   "metadata": {},
   "source": [
    "## Lab 6 - Bài 3"
   ]
  },
  {
   "cell_type": "code",
   "execution_count": 4,
   "id": "7034990b",
   "metadata": {},
   "outputs": [
    {
     "name": "stdout",
     "output_type": "stream",
     "text": [
      "Mã SV: ps45981\n",
      "Họ tên: khoa\n",
      "Điểm Java: 5.0\n",
      "Điểm HTML: 6.0\n",
      "Điểm CSS: 7.0\n",
      "Mã SV: duy\n",
      "Họ tên: udy\n",
      "Điểm Maketing: 4.0\n",
      "Điểm Sales: 6.0\n"
     ]
    }
   ],
   "source": [
    "# Code lab 6  bài 3 ở đây\n",
    "from svIT import SinhVienIT, SinhVienBiz\n",
    "sv_it = SinhVienIT(\"\",\"\",\"\",\"\",\"\")\n",
    "sv_it.nhap_thong_tin_sv()\n",
    "sv_it.xuat_thong_tin_sv()\n",
    "sv_biz = SinhVienBiz(\"\",\"\",\"\",\"\")\n",
    "sv_biz.nhap_thong_tin_sv()\n",
    "sv_biz.xuat_thong_tin_sv()"
   ]
  },
  {
   "cell_type": "markdown",
   "id": "d36ea3d3",
   "metadata": {},
   "source": [
    "## Lab 6 - Bài 4"
   ]
  },
  {
   "cell_type": "code",
   "execution_count": 3,
   "id": "4c707ec1",
   "metadata": {},
   "outputs": [
    {
     "name": "stdout",
     "output_type": "stream",
     "text": [
      "\n",
      "===== CHƯƠNG TRÌNH QUẢN LÝ SINH VIÊN =====\n",
      "1. Nhập danh sách sinh viên\n",
      "2. Xuất danh sách sinh viên\n",
      "3. Xuất danh sách sinh viên có học lực giỏi\n",
      "4. Sắp xếp danh sách sinh viên theo điểm\n",
      "5. Kêt thúc chương trình\n",
      ">>> Chức năng: Nhập danh sách sinh viên\n",
      "\n",
      "===== CHƯƠNG TRÌNH QUẢN LÝ SINH VIÊN =====\n",
      "1. Nhập danh sách sinh viên\n",
      "2. Xuất danh sách sinh viên\n",
      "3. Xuất danh sách sinh viên có học lực giỏi\n",
      "4. Sắp xếp danh sách sinh viên theo điểm\n",
      "5. Kêt thúc chương trình\n",
      ">>> Chức năng: Xuất danh sách sinh viên\n",
      "Mã SV: ps45981\n",
      "Họ tên: khoa\n",
      "Điểm Java: 6.0\n",
      "Điểm HTML: 7.0\n",
      "Điểm CSS: 8.0\n",
      "\n",
      "===== CHƯƠNG TRÌNH QUẢN LÝ SINH VIÊN =====\n",
      "1. Nhập danh sách sinh viên\n",
      "2. Xuất danh sách sinh viên\n",
      "3. Xuất danh sách sinh viên có học lực giỏi\n",
      "4. Sắp xếp danh sách sinh viên theo điểm\n",
      "5. Kêt thúc chương trình\n",
      ">>> Chức năng: Kêt thúc chương trình\n"
     ]
    }
   ],
   "source": [
    "from svIT import SinhVienIT, SinhVienBiz\n",
    "\n",
    "ds_sinh_vien = []  \n",
    "while True:\n",
    "    print(\"\\n===== CHƯƠNG TRÌNH QUẢN LÝ SINH VIÊN =====\")\n",
    "    print(\"1. Nhập danh sách sinh viên\")\n",
    "    print(\"2. Xuất danh sách sinh viên\")\n",
    "    print(\"3. Xuất danh sách sinh viên có học lực giỏi\")\n",
    "    print(\"4. Sắp xếp danh sách sinh viên theo điểm\")\n",
    "    print(\"5. Kêt thúc chương trình\")\n",
    "\n",
    "    chon = input(\">> Nhập lựa chọn của bạn: \")\n",
    "    if chon == \"1\":\n",
    "        print(\">>> Chức năng: Nhập danh sách sinh viên\")\n",
    "        loai_sv = input(\"Nhập loại sinh viên (IT/Biz): \").strip().upper()\n",
    "        if loai_sv == \"IT\":\n",
    "            sv = SinhVienIT(\"\",\"\",\"\",\"\",\"\")\n",
    "        elif loai_sv == \"BIZ\":\n",
    "            sv = SinhVienBiz(\"\",\"\",\"\",\"\")\n",
    "        else:\n",
    "            print(\"Loại sinh viên không hợp lệ!\")\n",
    "            continue\n",
    "        sv.nhap_thong_tin_sv()\n",
    "        ds_sinh_vien.append(sv)\n",
    "    elif chon == \"2\":\n",
    "        print(\">>> Chức năng: Xuất danh sách sinh viên\")\n",
    "        for sv in ds_sinh_vien:\n",
    "            sv.xuat_thong_tin_sv()\n",
    "    elif chon == \"3\":\n",
    "        print(\">>> Chức năng: Xuất danh sách sinh viên có học lực giỏi\")\n",
    "        for sv in ds_sinh_vien:\n",
    "         if sv.get_hoc_luc() == \"Giỏi\":\n",
    "                sv.xuat_thong_tin_sv()\n",
    "    elif chon == \"4\":\n",
    "        print(\">>> Chức năng: Sắp xếp danh sách sinh viên theo điểm\")\n",
    "        print(\"Danh sách đã được sắp xếp.\")\n",
    "    elif chon == \"5\":\n",
    "        print(\">>> Chức năng: Kêt thúc chương trình\")\n",
    "        break\n",
    "    else:\n",
    "        print(\">>> Lựa chọn không hợp lệ, vui lòng nhập lại!\")"
   ]
  },
  {
   "cell_type": "markdown",
   "id": "e2b41d4a",
   "metadata": {},
   "source": [
    "## Lab 6 - Bài 5: bài tập làm thêm"
   ]
  },
  {
   "cell_type": "code",
   "execution_count": null,
   "id": "0e0172f7",
   "metadata": {},
   "outputs": [
    {
     "name": "stdout",
     "output_type": "stream",
     "text": [
      "\n",
      "===== CHƯƠNG TRÌNH QUẢN LÝ SINH VIÊN =====\n",
      "1. Nhập danh sách sinh viên\n",
      "2. Xuất danh sách sinh viên\n",
      "3. Xuất danh sách sinh viên có học lực giỏi\n",
      "4. Sắp xếp danh sách sinh viên theo điểm\n",
      "5. Kêt thúc chương trình\n",
      ">>> Chức năng: Nhập danh sách sinh viên\n",
      "Loại sinh viên không hợp lệ!\n",
      "\n",
      "===== CHƯƠNG TRÌNH QUẢN LÝ SINH VIÊN =====\n",
      "1. Nhập danh sách sinh viên\n",
      "2. Xuất danh sách sinh viên\n",
      "3. Xuất danh sách sinh viên có học lực giỏi\n",
      "4. Sắp xếp danh sách sinh viên theo điểm\n",
      "5. Kêt thúc chương trình\n",
      ">>> Chức năng: Kêt thúc chương trình\n"
     ]
    }
   ],
   "source": []
  }
 ],
 "metadata": {
  "kernelspec": {
   "display_name": "Python 3",
   "language": "python",
   "name": "python3"
  },
  "language_info": {
   "codemirror_mode": {
    "name": "ipython",
    "version": 3
   },
   "file_extension": ".py",
   "mimetype": "text/x-python",
   "name": "python",
   "nbconvert_exporter": "python",
   "pygments_lexer": "ipython3",
   "version": "3.13.5"
  }
 },
 "nbformat": 4,
 "nbformat_minor": 5
}
