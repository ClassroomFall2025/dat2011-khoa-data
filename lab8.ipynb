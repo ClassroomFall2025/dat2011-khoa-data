{
 "cells": [
  {
   "cell_type": "markdown",
   "id": "fdeff819",
   "metadata": {},
   "source": [
    "# Sinh Viên thực hiện Lab 8 ở Đây"
   ]
  },
  {
   "cell_type": "markdown",
   "id": "acc5d7dc",
   "metadata": {},
   "source": [
    "## Lab 8 - Bài 1"
   ]
  },
  {
   "cell_type": "code",
   "execution_count": null,
   "id": "001e0507",
   "metadata": {},
   "outputs": [],
   "source": [
    "# Code lab 8 bài 1 ở đây\n",
    "ho_ten = input(\"Nhập họ tên: \")\n",
    "list_ho_ten = [tu for tu in ho_ten.split()]\n",
    "print(list_ho_ten)\n",
    "ten_dem = \"\"\n",
    "for Phan_tu in list_ho_ten[1:-1]:\n",
    "    ten_dem = ten_dem + Phan_tu\n",
    "print(f'{list_ho_ten[0].upper()} {ten_dem} {list_ho_ten[-1].upper()}')"
   ]
  },
  {
   "cell_type": "markdown",
   "id": "c0835310",
   "metadata": {},
   "source": [
    "## Lab 8 - Bài 2"
   ]
  },
  {
   "cell_type": "code",
   "execution_count": null,
   "id": "fa9cb39f",
   "metadata": {},
   "outputs": [],
   "source": [
    "# Code lab 8  bài 2 ở đây\n",
    "import re\n",
    "sinh_vien = {\n",
    "    \"Họ tên\" :\"\",\n",
    "    \"Email\" : \"\",\n",
    "    \"SĐT\" : \"\",\n",
    "    \"cccd\": \"\"\n",
    "\n",
    "}\n",
    "regex_email = r\"^[a-zA-Z0-9._-]+@[a-zA-Z0-9.-]+\\.[a-zA-Z]{2,}$\"\n",
    "regex_sdt = r\"^[1-9]{1}[0-9]{8}$\"\n",
    "regex_cccd = r\"^(00[1-9]|0[1-8][0-9]|09[0-6])[0-9][0-9]{2}[0-9]{6}$\" \n",
    "\n",
    "while True:\n",
    "    email = input(\"Nhập email: \")\n",
    "    if re.match(regex_email,email):\n",
    "        print(\"Email hợp lệ.\")\n",
    "        break\n",
    "    else:\n",
    "        print(\"Email không hợp lệ, vui lòng nhập lại.\")\n",
    "\n",
    "while True:\n",
    "    sdt = input(\"Nhập SĐT: \")\n",
    "    if re.match(regex_sdt,sdt):\n",
    "        print(\"SĐT hợp lệ.\")\n",
    "        break\n",
    "    else:\n",
    "        print(\"SĐT không hợp lệ, vui lòng nhập lại.\")\n",
    "\n",
    "while True:\n",
    "    cccd = input(\"Nhập CCCD: \")\n",
    "    if re.match(regex_cccd,cccd):\n",
    "        print(\"CCCD hợp lệ.\")\n",
    "        break\n",
    "    else:\n",
    "        print(\"CCCD không hợp lệ, vui lòng nhập lại.\")"
   ]
  },
  {
   "cell_type": "markdown",
   "id": "0f2483fe",
   "metadata": {},
   "source": [
    "## Lab 8 - Bài 3"
   ]
  },
  {
   "cell_type": "code",
   "execution_count": null,
   "id": "7034990b",
   "metadata": {},
   "outputs": [],
   "source": [
    "# Code lab 8  bài 3 ở đây\n",
    "import random\n",
    "list_ngau_nhien = [random.randint(0,100) for _ in range(1000000)]\n",
    "\n",
    "with open(\"numbers.txt\",\"w\", encoding=\"utf-8\") as f:\n",
    "    for i, so in enumerate(list_ngau_nhien):\n",
    "        if i>0: \n",
    "            f.write(\",\")\n",
    "        f.write(str(so))\n",
    "print(\"Đã ghi xong file numbers.txt\")"
   ]
  },
  {
   "cell_type": "markdown",
   "id": "d36ea3d3",
   "metadata": {},
   "source": [
    "## Lab 8 - Bài 4"
   ]
  },
  {
   "cell_type": "code",
   "execution_count": null,
   "id": "4c707ec1",
   "metadata": {},
   "outputs": [],
   "source": [
    "# code lab 8 bài 4 ở đây"
   ]
  },
  {
   "cell_type": "markdown",
   "id": "e2b41d4a",
   "metadata": {},
   "source": [
    "## Lab 8 - Bài 5: bài tập làm thêm"
   ]
  },
  {
   "cell_type": "code",
   "execution_count": null,
   "id": "0e0172f7",
   "metadata": {},
   "outputs": [],
   "source": [
    "# code lab 8  bài làm thêm ở đây "
   ]
  }
 ],
 "metadata": {
  "kernelspec": {
   "display_name": "Python 3",
   "language": "python",
   "name": "python3"
  },
  "language_info": {
   "name": "python",
   "version": "3.13.5"
  }
 },
 "nbformat": 4,
 "nbformat_minor": 5
}
